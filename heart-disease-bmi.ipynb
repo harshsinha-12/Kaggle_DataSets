{
 "cells": [
  {
   "cell_type": "code",
   "execution_count": 1,
   "id": "781e879c",
   "metadata": {
    "_cell_guid": "b1076dfc-b9ad-4769-8c92-a6c4dae69d19",
    "_uuid": "8f2839f25d086af736a60e9eeb907d3b93b6e0e5",
    "execution": {
     "iopub.execute_input": "2023-10-07T15:11:03.033800Z",
     "iopub.status.busy": "2023-10-07T15:11:03.033384Z",
     "iopub.status.idle": "2023-10-07T15:11:04.536647Z",
     "shell.execute_reply": "2023-10-07T15:11:04.535660Z"
    },
    "papermill": {
     "duration": 1.509197,
     "end_time": "2023-10-07T15:11:04.538836",
     "exception": false,
     "start_time": "2023-10-07T15:11:03.029639",
     "status": "completed"
    },
    "tags": []
   },
   "outputs": [
    {
     "name": "stdout",
     "output_type": "stream",
     "text": [
      "        HeartDiseaseorAttack  HighBP  HighChol  CholCheck  BMI  Smoker  \\\n",
      "0                          0       1         1          1   40       1   \n",
      "1                          0       0         0          0   25       1   \n",
      "2                          0       1         1          1   28       0   \n",
      "3                          0       1         0          1   27       0   \n",
      "4                          0       1         1          1   24       0   \n",
      "...                      ...     ...       ...        ...  ...     ...   \n",
      "253656                     0       0         0          1   25       0   \n",
      "253657                     0       0         1          1   24       0   \n",
      "253658                     0       0         0          0   27       0   \n",
      "253659                     0       0         1          1   37       0   \n",
      "253660                     0       0         1          1   34       1   \n",
      "\n",
      "        Stroke  Diabetes  PhysActivity  Fruits  ...  AnyHealthcare  \\\n",
      "0            0         0             0       0  ...              1   \n",
      "1            0         0             1       0  ...              0   \n",
      "2            0         0             0       1  ...              1   \n",
      "3            0         0             1       1  ...              1   \n",
      "4            0         0             1       1  ...              1   \n",
      "...        ...       ...           ...     ...  ...            ...   \n",
      "253656       0         0             1       1  ...              1   \n",
      "253657       0         0             0       0  ...              1   \n",
      "253658       0         0             1       0  ...              1   \n",
      "253659       0         2             0       0  ...              1   \n",
      "253660       0         0             0       1  ...              1   \n",
      "\n",
      "        NoDocbcCost  GenHlth  MentHlth  PhysHlth  DiffWalk  Sex  Age  \\\n",
      "0                 0        5        18        15         1    0    9   \n",
      "1                 1        3         0         0         0    0    7   \n",
      "2                 1        5        30        30         1    0    9   \n",
      "3                 0        2         0         0         0    0   11   \n",
      "4                 0        2         3         0         0    0   11   \n",
      "...             ...      ...       ...       ...       ...  ...  ...   \n",
      "253656            0        1         0         0         0    0    4   \n",
      "253657            0        3         0         0         0    0    7   \n",
      "253658            1        2         0         0         0    0    3   \n",
      "253659            0        4         0         0         0    0    6   \n",
      "253660            0        3         0         2         1    0    7   \n",
      "\n",
      "        Education  Income  \n",
      "0               4       3  \n",
      "1               6       1  \n",
      "2               4       8  \n",
      "3               3       6  \n",
      "4               5       4  \n",
      "...           ...     ...  \n",
      "253656          6       8  \n",
      "253657          5       3  \n",
      "253658          6       5  \n",
      "253659          4       1  \n",
      "253660          4       3  \n",
      "\n",
      "[253661 rows x 22 columns]\n",
      "Mean BMI is 28.38247503557898\n",
      "6.608637525341457\n"
     ]
    },
    {
     "data": {
      "image/png": "[encoded data removed]",
      "text/plain": [
       "<Figure size 640x480 with 1 Axes>"
      ]
     },
     "metadata": {},
     "output_type": "display_data"
    },
    {
     "name": "stdout",
     "output_type": "stream",
     "text": [
      "/kaggle/input/heart-disease-indicators/heart_disease_health_indicators.csv\n"
     ]
    }
   ],
   "source": [
    "# This Python 3 environment comes with many helpful analytics libraries installed\n",
    "# It is defined by the kaggle/python Docker image: https://github.com/kaggle/docker-python\n",
    "# For example, here's several helpful packages to load\n",
    "\n",
    "import numpy as np # linear algebra\n",
    "import pandas as pd # data processing, CSV file I/O (e.g. pd.read_csv)\n",
    "\n",
    "df = pd.read_csv('/kaggle/input/heart-disease-indicators/heart_disease_health_indicators.csv')\n",
    "print(df)\n",
    "\n",
    "mean = df['BMI'].mean()\n",
    "print(\"Mean BMI is\",mean)\n",
    "\n",
    "sdv = df['BMI'].std()\n",
    "print(sdv)\n",
    "\n",
    "# import numpy as np\n",
    "hist = df['BMI'].hist(bins = 10)\n",
    "\n",
    "\n",
    "\n",
    "\n",
    "#matplotlib\n",
    "\n",
    "import matplotlib.pyplot as plt\n",
    "# import numpy as np\n",
    "\n",
    "x = df['BMI']\n",
    "\n",
    "plt.hist(x, bins = 10)\n",
    "plt.title('BMI')\n",
    "plt.show()\n",
    "\n",
    "\n",
    "# Input data files are available in the read-only \"../input/\" directory\n",
    "# For example, running this (by clicking run or pressing Shift+Enter) will list all files under the input directory\n",
    "\n",
    "import os\n",
    "for dirname, _, filenames in os.walk('/kaggle/input'):\n",
    "    for filename in filenames:\n",
    "        print(os.path.join(dirname, filename))\n",
    "\n",
    "# You can write up to 20GB to the current directory (/kaggle/working/) that gets preserved as output when you create a version using \"Save & Run All\" \n",
    "# You can also write temporary files to /kaggle/temp/, but they won't be saved outside of the current session"
   ]
  }
 ],
 "metadata": {
  "kernelspec": {
   "display_name": "Python 3",
   "language": "python",
   "name": "python3"
  },
  "language_info": {
   "codemirror_mode": {
    "name": "ipython",
    "version": 3
   },
   "file_extension": ".py",
   "mimetype": "text/x-python",
   "name": "python",
   "nbconvert_exporter": "python",
   "pygments_lexer": "ipython3",
   "version": "3.10.12"
  },
  "papermill": {
   "default_parameters": {},
   "duration": 5.408959,
   "end_time": "2023-10-07T15:11:05.162748",
   "environment_variables": {},
   "exception": null,
   "input_path": "__notebook__.ipynb",
   "output_path": "__notebook__.ipynb",
   "parameters": {},
   "start_time": "2023-10-07T15:10:59.753789",
   "version": "2.4.0"
  }
 },
 "nbformat": 4,
 "nbformat_minor": 5
}
